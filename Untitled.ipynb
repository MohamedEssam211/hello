{
 "cells": [
  {
   "cell_type": "code",
   "execution_count": null,
   "id": "2a3aca9b-c676-4b0e-a99e-82a4a76010ae",
   "metadata": {},
   "outputs": [],
   "source": [
    "import tkinter as tk\n",
    "from tkinter import messagebox\n",
    "from openpyxl import Workbook, load_workbook\n",
    "from openpyxl.utils import get_column_letter\n",
    "\n",
    "# Initialize the main window\n",
    "root = tk.Tk()\n",
    "root.title(\"Student Registration System\")\n",
    "root.geometry(\"400x300\")\n",
    "\n",
    "# Excel file path\n",
    "file_path = \"students.xlsx\"\n",
    "\n",
    "# Function to save student data in Excel\n",
    "def register_student():\n",
    "    name = entry_name.get()\n",
    "    age = entry_age.get()\n",
    "    course = entry_course.get()\n",
    "    \n",
    "    # Check if fields are empty\n",
    "    if not name or not age or not course:\n",
    "        messagebox.showwarning(\"Input Error\", \"All fields are required!\")\n",
    "        return\n",
    "    \n",
    "    # Check if the Excel file exists, if not create it and add headers\n",
    "    try:\n",
    "        workbook = load_workbook(file_path)\n",
    "        sheet = workbook.active\n",
    "    except FileNotFoundError:\n",
    "        workbook = Workbook()\n",
    "        sheet = workbook.active\n",
    "        # Add headers if creating a new file\n",
    "        sheet.append([\"Name\", \"Age\", \"Course\"])\n",
    "    \n",
    "    # Append the student data to the Excel file\n",
    "    sheet.append([name, age, course])\n",
    "    workbook.save(file_path)\n",
    "    \n",
    "    # Clear the fields\n",
    "    entry_name.delete(0, tk.END)\n",
    "    entry_age.delete(0, tk.END)\n",
    "    entry_course.delete(0, tk.END)\n",
    "    \n",
    "    messagebox.showinfo(\"Success\", \"Student registered successfully!\")\n",
    "\n",
    "# GUI Labels and Entry Widgets\n",
    "tk.Label(root, text=\"Student Registration Form\", font=(\"Arial\", 16)).pack(pady=10)\n",
    "\n",
    "tk.Label(root, text=\"Name\").pack()\n",
    "entry_name = tk.Entry(root)\n",
    "entry_name.pack(pady=5)\n",
    "\n",
    "tk.Label(root, text=\"Age\").pack()\n",
    "entry_age = tk.Entry(root)\n",
    "entry_age.pack(pady=5)\n",
    "\n",
    "tk.Label(root, text=\"Course\").pack()\n",
    "entry_course = tk.Entry(root)\n",
    "entry_course.pack(pady=5)\n",
    "\n",
    "# Register button\n",
    "register_button = tk.Button(root, text=\"Register\", command=register_student)\n",
    "register_button.pack(pady=20)\n",
    "\n",
    "# Run the application\n",
    "root.mainloop()\n"
   ]
  },
  {
   "cell_type": "code",
   "execution_count": null,
   "id": "02b0d004-5358-4c0c-82e6-a0ab2f669878",
   "metadata": {},
   "outputs": [],
   "source": []
  },
  {
   "cell_type": "code",
   "execution_count": 2,
   "id": "b4f8561e-f7a1-4e13-8614-ee06cb450e5d",
   "metadata": {},
   "outputs": [
    {
     "name": "stdout",
     "output_type": "stream",
     "text": [
      "Note: you may need to restart the kernel to use updated packages.\n"
     ]
    },
    {
     "name": "stderr",
     "output_type": "stream",
     "text": [
      "ERROR: Could not find a version that satisfies the requirement openpyxl.utils (from versions: none)\n",
      "ERROR: No matching distribution found for openpyxl.utils\n"
     ]
    }
   ],
   "source": [
    " pip install openpyxl.utils "
   ]
  },
  {
   "cell_type": "code",
   "execution_count": null,
   "id": "f8121f8e-bf34-47f6-a201-a0fed6ee3265",
   "metadata": {},
   "outputs": [],
   "source": []
  }
 ],
 "metadata": {
  "kernelspec": {
   "display_name": "Python 3 (ipykernel)",
   "language": "python",
   "name": "python3"
  },
  "language_info": {
   "codemirror_mode": {
    "name": "ipython",
    "version": 3
   },
   "file_extension": ".py",
   "mimetype": "text/x-python",
   "name": "python",
   "nbconvert_exporter": "python",
   "pygments_lexer": "ipython3",
   "version": "3.11.7"
  }
 },
 "nbformat": 4,
 "nbformat_minor": 5
}
